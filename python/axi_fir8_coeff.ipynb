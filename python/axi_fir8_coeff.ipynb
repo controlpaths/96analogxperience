{
 "cells": [
  {
   "cell_type": "code",
   "execution_count": 45,
   "metadata": {},
   "outputs": [],
   "source": [
    "from pynq import Overlay\n",
    "import numpy as np\n",
    "from scipy import signal\n",
    "import matplotlib.pyplot as plt\n",
    "from pynq import MMIO"
   ]
  },
  {
   "cell_type": "code",
   "execution_count": 50,
   "metadata": {},
   "outputs": [],
   "source": [
    "overlay = Overlay(\"ultra96_bd_fir.bit\")"
   ]
  },
  {
   "cell_type": "code",
   "execution_count": 51,
   "metadata": {},
   "outputs": [],
   "source": [
    "IP_BASE_ADDRESS = 0x00B0000000\n",
    "IP_HIGH_ADDRESS = 0x00B0000FFF\n",
    "ADDRESS_RANGE = IP_HIGH_ADDRESS-IP_BASE_ADDRESS+1\n",
    "fir8 = MMIO(IP_BASE_ADDRESS, ADDRESS_RANGE)"
   ]
  },
  {
   "cell_type": "code",
   "execution_count": 82,
   "metadata": {},
   "outputs": [
    {
     "data": {
      "text/plain": [
       "[<matplotlib.lines.Line2D at 0x7f853d1390>]"
      ]
     },
     "execution_count": 82,
     "metadata": {},
     "output_type": "execute_result"
    },
    {
     "data": {
      "image/png": "[encoded data removed]",
      "text/plain": [
       "<matplotlib.figure.Figure at 0x7f85439e10>"
      ]
     },
     "metadata": {},
     "output_type": "display_data"
    }
   ],
   "source": [
    "# FIR filter design\n",
    "nTaps = 8; # FIR filter 8th order\n",
    "fs = 10e3\n",
    "fc = 3000\n",
    "wc = fc/fs\n",
    "taps = signal.firwin(nTaps, wc)\n",
    "w,h = signal.freqz(taps)\n",
    "plt.plot(w, 20 * np.log10(abs(h)), 'b')"
   ]
  },
  {
   "cell_type": "code",
   "execution_count": 83,
   "metadata": {},
   "outputs": [],
   "source": [
    "# Filter quantification\n",
    "nBits = 32\n",
    "\n",
    "tapsQ = []\n",
    "for i in taps:\n",
    "    tapsQ.append(np.int(i*2**(nBits-1)))"
   ]
  },
  {
   "cell_type": "code",
   "execution_count": 84,
   "metadata": {},
   "outputs": [],
   "source": [
    "coeffIndex = 0\n",
    "for j in tapsQ:\n",
    "    fir8.write(coeffIndex,j)\n",
    "    coeffIndex = coeffIndex+4"
   ]
  },
  {
   "cell_type": "code",
   "execution_count": null,
   "metadata": {},
   "outputs": [],
   "source": []
  }
 ],
 "metadata": {
  "kernelspec": {
   "display_name": "Python 3",
   "language": "python",
   "name": "python3"
  },
  "language_info": {
   "codemirror_mode": {
    "name": "ipython",
    "version": 3
   },
   "file_extension": ".py",
   "mimetype": "text/x-python",
   "name": "python",
   "nbconvert_exporter": "python",
   "pygments_lexer": "ipython3",
   "version": "3.6.9"
  }
 },
 "nbformat": 4,
 "nbformat_minor": 2
}
